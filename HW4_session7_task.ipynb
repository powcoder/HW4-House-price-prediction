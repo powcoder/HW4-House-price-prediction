{
 "cells": [
  {
   "cell_type": "code",
   "execution_count": 1,
   "metadata": {
    "collapsed": false
   },
   "outputs": [
    {
     "name": "stderr",
     "output_type": "stream",
     "text": [
      "/anaconda2/lib/python2.7/site-packages/sklearn/cross_validation.py:41: DeprecationWarning: This module was deprecated in version 0.18 in favor of the model_selection module into which all the refactored classes and functions are moved. Also note that the interface of the new CV iterators are different from that of this module. This module will be removed in 0.20.\n",
      "  \"This module will be removed in 0.20.\", DeprecationWarning)\n"
     ]
    }
   ],
   "source": [
    "#import modules we need to use for this session\n",
    "import pandas as pd\n",
    "import numpy as np\n",
    "%matplotlib inline\n",
    "import matplotlib.pyplot as plt\n",
    "from scipy import stats\n",
    "import statsmodels.formula.api as smf\n",
    "import statsmodels.api as sm\n",
    "from sklearn.linear_model import LinearRegression\n",
    "# PCA module\n",
    "from sklearn.decomposition import PCA\n",
    "from sklearn.cross_validation import train_test_split\n",
    "from mpl_toolkits.mplot3d import Axes3D\n",
    "from sklearn import datasets\n",
    "from sklearn import linear_model\n",
    "from sklearn import preprocessing\n",
    "from sklearn.metrics import r2_score"
   ]
  },
  {
   "cell_type": "markdown",
   "metadata": {},
   "source": [
    "# Task 1. House price prediction using 311 data\n",
    "\n",
    "### Can 311 complaining profile of urban neighborhoods enhance real-estate price prediction?\n",
    "\n",
    "[Zhu, E., & Sobolevsky, S. (2018). House Price Modeling with Digital Census. arXiv preprint arXiv:1809.03834.]"
   ]
  },
  {
   "cell_type": "markdown",
   "metadata": {},
   "source": [
    "Before we tried to use some parameters of the house (size) to predict its price. However notice that location matters as well. Below we upload a sample of more than 14000 individual house sales all around NYC in 2012. Each record together with the parameters of the house also contains important characteristics of the location (zip code) - average income of its residents (accodring to US census), as well as the relative structure of 311 complaints happening in the area."
   ]
  },
  {
   "cell_type": "code",
   "execution_count": 2,
   "metadata": {
    "collapsed": true
   },
   "outputs": [],
   "source": [
    "folder=''"
   ]
  },
  {
   "cell_type": "code",
   "execution_count": 3,
   "metadata": {
    "collapsed": true
   },
   "outputs": [],
   "source": [
    "REsample=pd.read_csv(folder+'data/NYChome_sales2012.csv',index_col=0)"
   ]
  },
  {
   "cell_type": "code",
   "execution_count": 4,
   "metadata": {
    "collapsed": false
   },
   "outputs": [
    {
     "data": {
      "text/plain": [
       "14611"
      ]
     },
     "execution_count": 4,
     "metadata": {},
     "output_type": "execute_result"
    }
   ],
   "source": [
    "len(REsample)"
   ]
  },
  {
   "cell_type": "code",
   "execution_count": 5,
   "metadata": {
    "collapsed": false
   },
   "outputs": [
    {
     "data": {
      "text/html": [
       "<div>\n",
       "<style scoped>\n",
       "    .dataframe tbody tr th:only-of-type {\n",
       "        vertical-align: middle;\n",
       "    }\n",
       "\n",
       "    .dataframe tbody tr th {\n",
       "        vertical-align: top;\n",
       "    }\n",
       "\n",
       "    .dataframe thead th {\n",
       "        text-align: right;\n",
       "    }\n",
       "</style>\n",
       "<table border=\"1\" class=\"dataframe\">\n",
       "  <thead>\n",
       "    <tr style=\"text-align: right;\">\n",
       "      <th></th>\n",
       "      <th>borough</th>\n",
       "      <th>neighborhood</th>\n",
       "      <th>block</th>\n",
       "      <th>lot</th>\n",
       "      <th>easement</th>\n",
       "      <th>building_class_present</th>\n",
       "      <th>address</th>\n",
       "      <th>zip_code</th>\n",
       "      <th>commmercial_units</th>\n",
       "      <th>land_sq_feet</th>\n",
       "      <th>gross_sq_feet</th>\n",
       "      <th>year_built</th>\n",
       "      <th>sale_price</th>\n",
       "      <th>sale_date</th>\n",
       "    </tr>\n",
       "  </thead>\n",
       "  <tbody>\n",
       "    <tr>\n",
       "      <th>204018</th>\n",
       "      <td>4</td>\n",
       "      <td>LAURELTON</td>\n",
       "      <td>12941</td>\n",
       "      <td>94</td>\n",
       "      <td>NaN</td>\n",
       "      <td>A2</td>\n",
       "      <td>131-43 FRANCIS LEWIS BLVD</td>\n",
       "      <td>11413</td>\n",
       "      <td>0</td>\n",
       "      <td>3560</td>\n",
       "      <td>1473</td>\n",
       "      <td>1940</td>\n",
       "      <td>0</td>\n",
       "      <td>2012-01-01</td>\n",
       "    </tr>\n",
       "    <tr>\n",
       "      <th>217555</th>\n",
       "      <td>2</td>\n",
       "      <td>BATHGATE</td>\n",
       "      <td>3046</td>\n",
       "      <td>42</td>\n",
       "      <td>NaN</td>\n",
       "      <td>A1</td>\n",
       "      <td>2069 BATHGATE AVE</td>\n",
       "      <td>10457</td>\n",
       "      <td>0</td>\n",
       "      <td>1964</td>\n",
       "      <td>1424</td>\n",
       "      <td>1899</td>\n",
       "      <td>345376</td>\n",
       "      <td>2012-04-05</td>\n",
       "    </tr>\n",
       "    <tr>\n",
       "      <th>217598</th>\n",
       "      <td>2</td>\n",
       "      <td>BAYCHESTER</td>\n",
       "      <td>4707</td>\n",
       "      <td>70</td>\n",
       "      <td>NaN</td>\n",
       "      <td>A5</td>\n",
       "      <td>1134 EAST 213 STREET</td>\n",
       "      <td>10469</td>\n",
       "      <td>0</td>\n",
       "      <td>2320</td>\n",
       "      <td>1813</td>\n",
       "      <td>1950</td>\n",
       "      <td>335700</td>\n",
       "      <td>2012-05-17</td>\n",
       "    </tr>\n",
       "    <tr>\n",
       "      <th>217599</th>\n",
       "      <td>2</td>\n",
       "      <td>BAYCHESTER</td>\n",
       "      <td>4708</td>\n",
       "      <td>48</td>\n",
       "      <td>NaN</td>\n",
       "      <td>A5</td>\n",
       "      <td>1110 EAST 214TH STREET</td>\n",
       "      <td>10469</td>\n",
       "      <td>0</td>\n",
       "      <td>1710</td>\n",
       "      <td>1813</td>\n",
       "      <td>1945</td>\n",
       "      <td>338000</td>\n",
       "      <td>2012-02-03</td>\n",
       "    </tr>\n",
       "    <tr>\n",
       "      <th>217600</th>\n",
       "      <td>2</td>\n",
       "      <td>BAYCHESTER</td>\n",
       "      <td>4710</td>\n",
       "      <td>1</td>\n",
       "      <td>NaN</td>\n",
       "      <td>A5</td>\n",
       "      <td>1127 EAST 215TH STREET</td>\n",
       "      <td>10469</td>\n",
       "      <td>0</td>\n",
       "      <td>2759</td>\n",
       "      <td>1998</td>\n",
       "      <td>1945</td>\n",
       "      <td>0</td>\n",
       "      <td>2012-12-20</td>\n",
       "    </tr>\n",
       "  </tbody>\n",
       "</table>\n",
       "</div>"
      ],
      "text/plain": [
       "        borough neighborhood  block  lot  easement building_class_present  \\\n",
       "204018        4    LAURELTON  12941   94       NaN                     A2   \n",
       "217555        2     BATHGATE   3046   42       NaN                     A1   \n",
       "217598        2   BAYCHESTER   4707   70       NaN                     A5   \n",
       "217599        2   BAYCHESTER   4708   48       NaN                     A5   \n",
       "217600        2   BAYCHESTER   4710    1       NaN                     A5   \n",
       "\n",
       "                          address  zip_code  commmercial_units  land_sq_feet  \\\n",
       "204018  131-43 FRANCIS LEWIS BLVD     11413                  0          3560   \n",
       "217555          2069 BATHGATE AVE     10457                  0          1964   \n",
       "217598       1134 EAST 213 STREET     10469                  0          2320   \n",
       "217599     1110 EAST 214TH STREET     10469                  0          1710   \n",
       "217600     1127 EAST 215TH STREET     10469                  0          2759   \n",
       "\n",
       "        gross_sq_feet  year_built  sale_price   sale_date  \n",
       "204018           1473        1940           0  2012-01-01  \n",
       "217555           1424        1899      345376  2012-04-05  \n",
       "217598           1813        1950      335700  2012-05-17  \n",
       "217599           1813        1945      338000  2012-02-03  \n",
       "217600           1998        1945           0  2012-12-20  "
      ]
     },
     "execution_count": 5,
     "metadata": {},
     "output_type": "execute_result"
    }
   ],
   "source": [
    "REsample.head()"
   ]
  },
  {
   "cell_type": "code",
   "execution_count": 6,
   "metadata": {
    "collapsed": false
   },
   "outputs": [
    {
     "data": {
      "text/plain": [
       "Index([u'borough', u'neighborhood', u'block', u'lot', u'easement',\n",
       "       u'building_class_present', u'address', u'zip_code',\n",
       "       u'commmercial_units', u'land_sq_feet', u'gross_sq_feet', u'year_built',\n",
       "       u'sale_price', u'sale_date'],\n",
       "      dtype='object')"
      ]
     },
     "execution_count": 6,
     "metadata": {},
     "output_type": "execute_result"
    }
   ],
   "source": [
    "REsample.columns"
   ]
  },
  {
   "cell_type": "code",
   "execution_count": 7,
   "metadata": {
    "collapsed": false
   },
   "outputs": [
    {
     "data": {
      "text/plain": [
       "array([   0,  216,  894, 2769, 7288, 3444])"
      ]
     },
     "execution_count": 7,
     "metadata": {},
     "output_type": "execute_result"
    }
   ],
   "source": [
    "#how many houses do we have per each borough?\n",
    "np.bincount(REsample.borough)"
   ]
  },
  {
   "cell_type": "code",
   "execution_count": 8,
   "metadata": {
    "collapsed": true
   },
   "outputs": [],
   "source": [
    "#split into training (1), validation (2) and test (3) samples\n",
    "np.random.seed(2018)\n",
    "splitind=np.random.uniform(size=len(REsample))\n",
    "REsample1=REsample.loc[splitind<=0.4]\n",
    "REsample2=REsample.loc[(splitind>0.4)&(splitind<0.7)]\n",
    "REsample3=REsample.loc[(splitind>=0.7)]"
   ]
  },
  {
   "cell_type": "code",
   "execution_count": 9,
   "metadata": {
    "collapsed": false
   },
   "outputs": [
    {
     "data": {
      "text/plain": [
       "5832"
      ]
     },
     "execution_count": 9,
     "metadata": {},
     "output_type": "execute_result"
    }
   ],
   "source": [
    "len(REsample1) #loosing around 50 records within sparse zip codes"
   ]
  },
  {
   "cell_type": "code",
   "execution_count": 10,
   "metadata": {
    "collapsed": false
   },
   "outputs": [
    {
     "data": {
      "text/plain": [
       "4394"
      ]
     },
     "execution_count": 10,
     "metadata": {},
     "output_type": "execute_result"
    }
   ],
   "source": [
    "len(REsample2)"
   ]
  },
  {
   "cell_type": "code",
   "execution_count": 11,
   "metadata": {
    "collapsed": false
   },
   "outputs": [
    {
     "data": {
      "text/plain": [
       "4385"
      ]
     },
     "execution_count": 11,
     "metadata": {},
     "output_type": "execute_result"
    }
   ],
   "source": [
    "len(REsample3)"
   ]
  },
  {
   "cell_type": "code",
   "execution_count": 12,
   "metadata": {
    "collapsed": true
   },
   "outputs": [],
   "source": [
    "# now load and curate 311 data which we're going to use in order to characterize the location"
   ]
  },
  {
   "cell_type": "code",
   "execution_count": 13,
   "metadata": {
    "collapsed": false
   },
   "outputs": [
    {
     "data": {
      "text/html": [
       "<div>\n",
       "<style scoped>\n",
       "    .dataframe tbody tr th:only-of-type {\n",
       "        vertical-align: middle;\n",
       "    }\n",
       "\n",
       "    .dataframe tbody tr th {\n",
       "        vertical-align: top;\n",
       "    }\n",
       "\n",
       "    .dataframe thead th {\n",
       "        text-align: right;\n",
       "    }\n",
       "</style>\n",
       "<table border=\"1\" class=\"dataframe\">\n",
       "  <thead>\n",
       "    <tr style=\"text-align: right;\">\n",
       "      <th></th>\n",
       "      <th>Zip</th>\n",
       "      <th>Complain</th>\n",
       "      <th>Count</th>\n",
       "    </tr>\n",
       "  </thead>\n",
       "  <tbody>\n",
       "    <tr>\n",
       "      <th>1</th>\n",
       "      <td>NaN</td>\n",
       "      <td>Adopt-A-Basket</td>\n",
       "      <td>5</td>\n",
       "    </tr>\n",
       "    <tr>\n",
       "      <th>2</th>\n",
       "      <td>10001</td>\n",
       "      <td>Adopt-A-Basket</td>\n",
       "      <td>1</td>\n",
       "    </tr>\n",
       "    <tr>\n",
       "      <th>3</th>\n",
       "      <td>10003</td>\n",
       "      <td>Adopt-A-Basket</td>\n",
       "      <td>1</td>\n",
       "    </tr>\n",
       "    <tr>\n",
       "      <th>4</th>\n",
       "      <td>10009</td>\n",
       "      <td>Adopt-A-Basket</td>\n",
       "      <td>1</td>\n",
       "    </tr>\n",
       "    <tr>\n",
       "      <th>5</th>\n",
       "      <td>10010</td>\n",
       "      <td>Adopt-A-Basket</td>\n",
       "      <td>1</td>\n",
       "    </tr>\n",
       "  </tbody>\n",
       "</table>\n",
       "</div>"
      ],
      "text/plain": [
       "     Zip        Complain  Count\n",
       "1    NaN  Adopt-A-Basket      5\n",
       "2  10001  Adopt-A-Basket      1\n",
       "3  10003  Adopt-A-Basket      1\n",
       "4  10009  Adopt-A-Basket      1\n",
       "5  10010  Adopt-A-Basket      1"
      ]
     },
     "execution_count": 13,
     "metadata": {},
     "output_type": "execute_result"
    }
   ],
   "source": [
    "data311 = pd.read_csv( folder+'data/aggr311.csv' , index_col=0 )\n",
    "data311.head()"
   ]
  },
  {
   "cell_type": "code",
   "execution_count": 14,
   "metadata": {
    "collapsed": true
   },
   "outputs": [],
   "source": [
    "data311.Zip=pd.to_numeric(data311.Zip,errors='coerce')"
   ]
  },
  {
   "cell_type": "code",
   "execution_count": 15,
   "metadata": {
    "collapsed": true
   },
   "outputs": [],
   "source": [
    "data311=data311.loc[(data311.Zip>=10000)&(data311.Zip<11500)] #take only NYC zip codes"
   ]
  },
  {
   "cell_type": "code",
   "execution_count": 16,
   "metadata": {
    "collapsed": true
   },
   "outputs": [],
   "source": [
    "data311=pd.pivot_table(data311,index='Zip',columns='Complain',values='Count',fill_value=0)"
   ]
  },
  {
   "cell_type": "code",
   "execution_count": 17,
   "metadata": {
    "collapsed": false
   },
   "outputs": [
    {
     "data": {
      "text/html": [
       "<div>\n",
       "<style scoped>\n",
       "    .dataframe tbody tr th:only-of-type {\n",
       "        vertical-align: middle;\n",
       "    }\n",
       "\n",
       "    .dataframe tbody tr th {\n",
       "        vertical-align: top;\n",
       "    }\n",
       "\n",
       "    .dataframe thead th {\n",
       "        text-align: right;\n",
       "    }\n",
       "</style>\n",
       "<table border=\"1\" class=\"dataframe\">\n",
       "  <thead>\n",
       "    <tr style=\"text-align: right;\">\n",
       "      <th>Complain</th>\n",
       "      <th>APPLIANCE</th>\n",
       "      <th>Adopt-A-Basket</th>\n",
       "      <th>Air Quality</th>\n",
       "      <th>Animal Abuse</th>\n",
       "      <th>Animal Facility - No Permit</th>\n",
       "      <th>Animal in a Park</th>\n",
       "      <th>Asbestos</th>\n",
       "      <th>BEST/Site Safety</th>\n",
       "      <th>Beach/Pool/Sauna Complaint</th>\n",
       "      <th>Bike Rack Condition</th>\n",
       "      <th>...</th>\n",
       "      <th>Unsanitary Pigeon Condition</th>\n",
       "      <th>Urinating in Public</th>\n",
       "      <th>Vacant Lot</th>\n",
       "      <th>Vending</th>\n",
       "      <th>Violation of Park Rules</th>\n",
       "      <th>Water Conservation</th>\n",
       "      <th>Water Quality</th>\n",
       "      <th>Water System</th>\n",
       "      <th>Window Guard</th>\n",
       "      <th>X-Ray Machine/Equipment</th>\n",
       "    </tr>\n",
       "    <tr>\n",
       "      <th>Zip</th>\n",
       "      <th></th>\n",
       "      <th></th>\n",
       "      <th></th>\n",
       "      <th></th>\n",
       "      <th></th>\n",
       "      <th></th>\n",
       "      <th></th>\n",
       "      <th></th>\n",
       "      <th></th>\n",
       "      <th></th>\n",
       "      <th></th>\n",
       "      <th></th>\n",
       "      <th></th>\n",
       "      <th></th>\n",
       "      <th></th>\n",
       "      <th></th>\n",
       "      <th></th>\n",
       "      <th></th>\n",
       "      <th></th>\n",
       "      <th></th>\n",
       "      <th></th>\n",
       "    </tr>\n",
       "  </thead>\n",
       "  <tbody>\n",
       "    <tr>\n",
       "      <th>10000.0</th>\n",
       "      <td>0</td>\n",
       "      <td>0</td>\n",
       "      <td>1</td>\n",
       "      <td>0</td>\n",
       "      <td>0</td>\n",
       "      <td>1</td>\n",
       "      <td>0</td>\n",
       "      <td>0</td>\n",
       "      <td>0</td>\n",
       "      <td>0</td>\n",
       "      <td>...</td>\n",
       "      <td>0</td>\n",
       "      <td>0</td>\n",
       "      <td>0</td>\n",
       "      <td>8</td>\n",
       "      <td>8</td>\n",
       "      <td>0</td>\n",
       "      <td>0</td>\n",
       "      <td>0</td>\n",
       "      <td>0</td>\n",
       "      <td>0</td>\n",
       "    </tr>\n",
       "    <tr>\n",
       "      <th>10001.0</th>\n",
       "      <td>0</td>\n",
       "      <td>1</td>\n",
       "      <td>90</td>\n",
       "      <td>0</td>\n",
       "      <td>0</td>\n",
       "      <td>1</td>\n",
       "      <td>20</td>\n",
       "      <td>36</td>\n",
       "      <td>1</td>\n",
       "      <td>1</td>\n",
       "      <td>...</td>\n",
       "      <td>3</td>\n",
       "      <td>0</td>\n",
       "      <td>2</td>\n",
       "      <td>51</td>\n",
       "      <td>5</td>\n",
       "      <td>5</td>\n",
       "      <td>2</td>\n",
       "      <td>366</td>\n",
       "      <td>0</td>\n",
       "      <td>0</td>\n",
       "    </tr>\n",
       "    <tr>\n",
       "      <th>10002.0</th>\n",
       "      <td>15</td>\n",
       "      <td>0</td>\n",
       "      <td>80</td>\n",
       "      <td>0</td>\n",
       "      <td>0</td>\n",
       "      <td>21</td>\n",
       "      <td>18</td>\n",
       "      <td>20</td>\n",
       "      <td>2</td>\n",
       "      <td>6</td>\n",
       "      <td>...</td>\n",
       "      <td>5</td>\n",
       "      <td>1</td>\n",
       "      <td>4</td>\n",
       "      <td>27</td>\n",
       "      <td>14</td>\n",
       "      <td>10</td>\n",
       "      <td>7</td>\n",
       "      <td>324</td>\n",
       "      <td>0</td>\n",
       "      <td>0</td>\n",
       "    </tr>\n",
       "    <tr>\n",
       "      <th>10003.0</th>\n",
       "      <td>15</td>\n",
       "      <td>1</td>\n",
       "      <td>143</td>\n",
       "      <td>0</td>\n",
       "      <td>2</td>\n",
       "      <td>44</td>\n",
       "      <td>24</td>\n",
       "      <td>13</td>\n",
       "      <td>2</td>\n",
       "      <td>2</td>\n",
       "      <td>...</td>\n",
       "      <td>7</td>\n",
       "      <td>11</td>\n",
       "      <td>2</td>\n",
       "      <td>54</td>\n",
       "      <td>25</td>\n",
       "      <td>12</td>\n",
       "      <td>5</td>\n",
       "      <td>318</td>\n",
       "      <td>0</td>\n",
       "      <td>0</td>\n",
       "    </tr>\n",
       "    <tr>\n",
       "      <th>10004.0</th>\n",
       "      <td>0</td>\n",
       "      <td>0</td>\n",
       "      <td>15</td>\n",
       "      <td>0</td>\n",
       "      <td>0</td>\n",
       "      <td>4</td>\n",
       "      <td>3</td>\n",
       "      <td>1</td>\n",
       "      <td>0</td>\n",
       "      <td>1</td>\n",
       "      <td>...</td>\n",
       "      <td>1</td>\n",
       "      <td>1</td>\n",
       "      <td>0</td>\n",
       "      <td>16</td>\n",
       "      <td>21</td>\n",
       "      <td>0</td>\n",
       "      <td>0</td>\n",
       "      <td>37</td>\n",
       "      <td>0</td>\n",
       "      <td>0</td>\n",
       "    </tr>\n",
       "  </tbody>\n",
       "</table>\n",
       "<p>5 rows × 162 columns</p>\n",
       "</div>"
      ],
      "text/plain": [
       "Complain  APPLIANCE  Adopt-A-Basket  Air Quality  Animal Abuse  \\\n",
       "Zip                                                              \n",
       "10000.0           0               0            1             0   \n",
       "10001.0           0               1           90             0   \n",
       "10002.0          15               0           80             0   \n",
       "10003.0          15               1          143             0   \n",
       "10004.0           0               0           15             0   \n",
       "\n",
       "Complain  Animal Facility - No Permit  Animal in a Park  Asbestos  \\\n",
       "Zip                                                                 \n",
       "10000.0                             0                 1         0   \n",
       "10001.0                             0                 1        20   \n",
       "10002.0                             0                21        18   \n",
       "10003.0                             2                44        24   \n",
       "10004.0                             0                 4         3   \n",
       "\n",
       "Complain  BEST/Site Safety  Beach/Pool/Sauna Complaint  Bike Rack Condition  \\\n",
       "Zip                                                                           \n",
       "10000.0                  0                           0                    0   \n",
       "10001.0                 36                           1                    1   \n",
       "10002.0                 20                           2                    6   \n",
       "10003.0                 13                           2                    2   \n",
       "10004.0                  1                           0                    1   \n",
       "\n",
       "Complain           ...             Unsanitary Pigeon Condition  \\\n",
       "Zip                ...                                           \n",
       "10000.0            ...                                       0   \n",
       "10001.0            ...                                       3   \n",
       "10002.0            ...                                       5   \n",
       "10003.0            ...                                       7   \n",
       "10004.0            ...                                       1   \n",
       "\n",
       "Complain  Urinating in Public  Vacant Lot  Vending  Violation of Park Rules  \\\n",
       "Zip                                                                           \n",
       "10000.0                     0           0        8                        8   \n",
       "10001.0                     0           2       51                        5   \n",
       "10002.0                     1           4       27                       14   \n",
       "10003.0                    11           2       54                       25   \n",
       "10004.0                     1           0       16                       21   \n",
       "\n",
       "Complain  Water Conservation  Water Quality  Water System  Window Guard  \\\n",
       "Zip                                                                       \n",
       "10000.0                    0              0             0             0   \n",
       "10001.0                    5              2           366             0   \n",
       "10002.0                   10              7           324             0   \n",
       "10003.0                   12              5           318             0   \n",
       "10004.0                    0              0            37             0   \n",
       "\n",
       "Complain  X-Ray Machine/Equipment  \n",
       "Zip                                \n",
       "10000.0                         0  \n",
       "10001.0                         0  \n",
       "10002.0                         0  \n",
       "10003.0                         0  \n",
       "10004.0                         0  \n",
       "\n",
       "[5 rows x 162 columns]"
      ]
     },
     "execution_count": 17,
     "metadata": {},
     "output_type": "execute_result"
    }
   ],
   "source": [
    "data311.head()"
   ]
  },
  {
   "cell_type": "code",
   "execution_count": 18,
   "metadata": {
    "collapsed": true
   },
   "outputs": [],
   "source": [
    "list_311=list(data311.columns)"
   ]
  },
  {
   "cell_type": "code",
   "execution_count": 19,
   "metadata": {
    "collapsed": true
   },
   "outputs": [],
   "source": [
    "Total311=data311.sum(axis=1) #total 311 activity per zip code\n",
    "data311=data311.div(data311.sum(axis=1), axis=0) #normalize activity of various cathegories within zip code by total\n",
    "data311=data311.loc[Total311>100] #keep only those zip codes having sufficient activity"
   ]
  },
  {
   "cell_type": "code",
   "execution_count": 20,
   "metadata": {
    "collapsed": false
   },
   "outputs": [
    {
     "data": {
      "text/plain": [
       "179"
      ]
     },
     "execution_count": 20,
     "metadata": {},
     "output_type": "execute_result"
    }
   ],
   "source": [
    "len(data311) #only 179 zip codes with reliable data left"
   ]
  },
  {
   "cell_type": "code",
   "execution_count": 21,
   "metadata": {
    "collapsed": false
   },
   "outputs": [
    {
     "data": {
      "text/html": [
       "<div>\n",
       "<style scoped>\n",
       "    .dataframe tbody tr th:only-of-type {\n",
       "        vertical-align: middle;\n",
       "    }\n",
       "\n",
       "    .dataframe tbody tr th {\n",
       "        vertical-align: top;\n",
       "    }\n",
       "\n",
       "    .dataframe thead th {\n",
       "        text-align: right;\n",
       "    }\n",
       "</style>\n",
       "<table border=\"1\" class=\"dataframe\">\n",
       "  <thead>\n",
       "    <tr style=\"text-align: right;\">\n",
       "      <th>Complain</th>\n",
       "      <th>APPLIANCE</th>\n",
       "      <th>Adopt-A-Basket</th>\n",
       "      <th>Air Quality</th>\n",
       "      <th>Animal Abuse</th>\n",
       "      <th>Animal Facility - No Permit</th>\n",
       "      <th>Animal in a Park</th>\n",
       "      <th>Asbestos</th>\n",
       "      <th>BEST/Site Safety</th>\n",
       "      <th>Beach/Pool/Sauna Complaint</th>\n",
       "      <th>Bike Rack Condition</th>\n",
       "      <th>...</th>\n",
       "      <th>Unsanitary Pigeon Condition</th>\n",
       "      <th>Urinating in Public</th>\n",
       "      <th>Vacant Lot</th>\n",
       "      <th>Vending</th>\n",
       "      <th>Violation of Park Rules</th>\n",
       "      <th>Water Conservation</th>\n",
       "      <th>Water Quality</th>\n",
       "      <th>Water System</th>\n",
       "      <th>Window Guard</th>\n",
       "      <th>X-Ray Machine/Equipment</th>\n",
       "    </tr>\n",
       "    <tr>\n",
       "      <th>Zip</th>\n",
       "      <th></th>\n",
       "      <th></th>\n",
       "      <th></th>\n",
       "      <th></th>\n",
       "      <th></th>\n",
       "      <th></th>\n",
       "      <th></th>\n",
       "      <th></th>\n",
       "      <th></th>\n",
       "      <th></th>\n",
       "      <th></th>\n",
       "      <th></th>\n",
       "      <th></th>\n",
       "      <th></th>\n",
       "      <th></th>\n",
       "      <th></th>\n",
       "      <th></th>\n",
       "      <th></th>\n",
       "      <th></th>\n",
       "      <th></th>\n",
       "      <th></th>\n",
       "    </tr>\n",
       "  </thead>\n",
       "  <tbody>\n",
       "    <tr>\n",
       "      <th>10000.0</th>\n",
       "      <td>0.000000</td>\n",
       "      <td>0.000000</td>\n",
       "      <td>0.008772</td>\n",
       "      <td>0.0</td>\n",
       "      <td>0.000000</td>\n",
       "      <td>0.008772</td>\n",
       "      <td>0.000000</td>\n",
       "      <td>0.000000</td>\n",
       "      <td>0.000000</td>\n",
       "      <td>0.000000</td>\n",
       "      <td>...</td>\n",
       "      <td>0.000000</td>\n",
       "      <td>0.000000</td>\n",
       "      <td>0.000000</td>\n",
       "      <td>0.070175</td>\n",
       "      <td>0.070175</td>\n",
       "      <td>0.000000</td>\n",
       "      <td>0.000000</td>\n",
       "      <td>0.000000</td>\n",
       "      <td>0.0</td>\n",
       "      <td>0.0</td>\n",
       "    </tr>\n",
       "    <tr>\n",
       "      <th>10001.0</th>\n",
       "      <td>0.000000</td>\n",
       "      <td>0.000146</td>\n",
       "      <td>0.013179</td>\n",
       "      <td>0.0</td>\n",
       "      <td>0.000000</td>\n",
       "      <td>0.000146</td>\n",
       "      <td>0.002929</td>\n",
       "      <td>0.005272</td>\n",
       "      <td>0.000146</td>\n",
       "      <td>0.000146</td>\n",
       "      <td>...</td>\n",
       "      <td>0.000439</td>\n",
       "      <td>0.000000</td>\n",
       "      <td>0.000293</td>\n",
       "      <td>0.007468</td>\n",
       "      <td>0.000732</td>\n",
       "      <td>0.000732</td>\n",
       "      <td>0.000293</td>\n",
       "      <td>0.053595</td>\n",
       "      <td>0.0</td>\n",
       "      <td>0.0</td>\n",
       "    </tr>\n",
       "    <tr>\n",
       "      <th>10002.0</th>\n",
       "      <td>0.001330</td>\n",
       "      <td>0.000000</td>\n",
       "      <td>0.007095</td>\n",
       "      <td>0.0</td>\n",
       "      <td>0.000000</td>\n",
       "      <td>0.001862</td>\n",
       "      <td>0.001596</td>\n",
       "      <td>0.001774</td>\n",
       "      <td>0.000177</td>\n",
       "      <td>0.000532</td>\n",
       "      <td>...</td>\n",
       "      <td>0.000443</td>\n",
       "      <td>0.000089</td>\n",
       "      <td>0.000355</td>\n",
       "      <td>0.002394</td>\n",
       "      <td>0.001242</td>\n",
       "      <td>0.000887</td>\n",
       "      <td>0.000621</td>\n",
       "      <td>0.028734</td>\n",
       "      <td>0.0</td>\n",
       "      <td>0.0</td>\n",
       "    </tr>\n",
       "    <tr>\n",
       "      <th>10003.0</th>\n",
       "      <td>0.001331</td>\n",
       "      <td>0.000089</td>\n",
       "      <td>0.012690</td>\n",
       "      <td>0.0</td>\n",
       "      <td>0.000177</td>\n",
       "      <td>0.003905</td>\n",
       "      <td>0.002130</td>\n",
       "      <td>0.001154</td>\n",
       "      <td>0.000177</td>\n",
       "      <td>0.000177</td>\n",
       "      <td>...</td>\n",
       "      <td>0.000621</td>\n",
       "      <td>0.000976</td>\n",
       "      <td>0.000177</td>\n",
       "      <td>0.004792</td>\n",
       "      <td>0.002218</td>\n",
       "      <td>0.001065</td>\n",
       "      <td>0.000444</td>\n",
       "      <td>0.028219</td>\n",
       "      <td>0.0</td>\n",
       "      <td>0.0</td>\n",
       "    </tr>\n",
       "    <tr>\n",
       "      <th>10004.0</th>\n",
       "      <td>0.000000</td>\n",
       "      <td>0.000000</td>\n",
       "      <td>0.009740</td>\n",
       "      <td>0.0</td>\n",
       "      <td>0.000000</td>\n",
       "      <td>0.002597</td>\n",
       "      <td>0.001948</td>\n",
       "      <td>0.000649</td>\n",
       "      <td>0.000000</td>\n",
       "      <td>0.000649</td>\n",
       "      <td>...</td>\n",
       "      <td>0.000649</td>\n",
       "      <td>0.000649</td>\n",
       "      <td>0.000000</td>\n",
       "      <td>0.010390</td>\n",
       "      <td>0.013636</td>\n",
       "      <td>0.000000</td>\n",
       "      <td>0.000000</td>\n",
       "      <td>0.024026</td>\n",
       "      <td>0.0</td>\n",
       "      <td>0.0</td>\n",
       "    </tr>\n",
       "  </tbody>\n",
       "</table>\n",
       "<p>5 rows × 162 columns</p>\n",
       "</div>"
      ],
      "text/plain": [
       "Complain  APPLIANCE  Adopt-A-Basket  Air Quality  Animal Abuse  \\\n",
       "Zip                                                              \n",
       "10000.0    0.000000        0.000000     0.008772           0.0   \n",
       "10001.0    0.000000        0.000146     0.013179           0.0   \n",
       "10002.0    0.001330        0.000000     0.007095           0.0   \n",
       "10003.0    0.001331        0.000089     0.012690           0.0   \n",
       "10004.0    0.000000        0.000000     0.009740           0.0   \n",
       "\n",
       "Complain  Animal Facility - No Permit  Animal in a Park  Asbestos  \\\n",
       "Zip                                                                 \n",
       "10000.0                      0.000000          0.008772  0.000000   \n",
       "10001.0                      0.000000          0.000146  0.002929   \n",
       "10002.0                      0.000000          0.001862  0.001596   \n",
       "10003.0                      0.000177          0.003905  0.002130   \n",
       "10004.0                      0.000000          0.002597  0.001948   \n",
       "\n",
       "Complain  BEST/Site Safety  Beach/Pool/Sauna Complaint  Bike Rack Condition  \\\n",
       "Zip                                                                           \n",
       "10000.0           0.000000                    0.000000             0.000000   \n",
       "10001.0           0.005272                    0.000146             0.000146   \n",
       "10002.0           0.001774                    0.000177             0.000532   \n",
       "10003.0           0.001154                    0.000177             0.000177   \n",
       "10004.0           0.000649                    0.000000             0.000649   \n",
       "\n",
       "Complain           ...             Unsanitary Pigeon Condition  \\\n",
       "Zip                ...                                           \n",
       "10000.0            ...                                0.000000   \n",
       "10001.0            ...                                0.000439   \n",
       "10002.0            ...                                0.000443   \n",
       "10003.0            ...                                0.000621   \n",
       "10004.0            ...                                0.000649   \n",
       "\n",
       "Complain  Urinating in Public  Vacant Lot   Vending  Violation of Park Rules  \\\n",
       "Zip                                                                            \n",
       "10000.0              0.000000    0.000000  0.070175                 0.070175   \n",
       "10001.0              0.000000    0.000293  0.007468                 0.000732   \n",
       "10002.0              0.000089    0.000355  0.002394                 0.001242   \n",
       "10003.0              0.000976    0.000177  0.004792                 0.002218   \n",
       "10004.0              0.000649    0.000000  0.010390                 0.013636   \n",
       "\n",
       "Complain  Water Conservation  Water Quality  Water System  Window Guard  \\\n",
       "Zip                                                                       \n",
       "10000.0             0.000000       0.000000      0.000000           0.0   \n",
       "10001.0             0.000732       0.000293      0.053595           0.0   \n",
       "10002.0             0.000887       0.000621      0.028734           0.0   \n",
       "10003.0             0.001065       0.000444      0.028219           0.0   \n",
       "10004.0             0.000000       0.000000      0.024026           0.0   \n",
       "\n",
       "Complain  X-Ray Machine/Equipment  \n",
       "Zip                                \n",
       "10000.0                       0.0  \n",
       "10001.0                       0.0  \n",
       "10002.0                       0.0  \n",
       "10003.0                       0.0  \n",
       "10004.0                       0.0  \n",
       "\n",
       "[5 rows x 162 columns]"
      ]
     },
     "execution_count": 21,
     "metadata": {},
     "output_type": "execute_result"
    }
   ],
   "source": [
    "data311.head()"
   ]
  },
  {
   "cell_type": "markdown",
   "metadata": {},
   "source": [
    "#### Q1. Run linear regression 'sale_price ~ gross_sq_feet+land_sq_feet+year_built' over the training data"
   ]
  },
  {
   "cell_type": "markdown",
   "metadata": {},
   "source": [
    "#### Q2. Add 311 data corresponding to the zip code of the house location to REsample1,2,3 \n",
    "in order to characterize the house's neighborhood by merging the dataframes REsample1,2,3 with data311 by zip code. Name merged dataframes REsample1_311, REsample2_311, REsample3_311 \n",
    "rename 311 columns to F1,F2,... for easier formulae engineering\n",
    "but keep the original names as a dictionary {'F1':'APPLIANCE', ...}"
   ]
  },
  {
   "cell_type": "markdown",
   "metadata": {},
   "source": [
    "#### Q3. Run the linear model with 311\n",
    "We need to add 311 features in addition to the gross_sq_feet,land_sq_feet,year_built used before. So regression will include both - house characteristics as well as 311 features of the location\n",
    "Train the model over the training sample REsample1_311 and test over the test sample REsample3_311,\n",
    "report training and test R2"
   ]
  },
  {
   "cell_type": "markdown",
   "metadata": {},
   "source": [
    "#### Q4. Apply regularization\n",
    "Train Ridge and Lasso over REsample1_311 with an arbitrary default parameter $\\alpha=1$.\n",
    "Then evaluate their out-of-sample performance over REsample3_311\n",
    "Make sure to scale the features in all three samples first, learning the scaler over the training sample"
   ]
  },
  {
   "cell_type": "markdown",
   "metadata": {},
   "source": [
    "#### Q5. Perform parameter selection for Lasso and Ridge over validation sample\n",
    "try exponential range -exp(10)...exp(20) with 100 values in it\n",
    "\n",
    "Visualize the validation R2 vs alpha\n",
    "\n",
    "For the optimal alpha evaluate performance of the models over the test set"
   ]
  },
  {
   "cell_type": "markdown",
   "metadata": {},
   "source": [
    "#### Task 2. Model Mean income of the zip code population using 311 profile of the neighborhood"
   ]
  },
  {
   "cell_type": "code",
   "execution_count": 22,
   "metadata": {
    "collapsed": false
   },
   "outputs": [
    {
     "data": {
      "text/html": [
       "<div>\n",
       "<style scoped>\n",
       "    .dataframe tbody tr th:only-of-type {\n",
       "        vertical-align: middle;\n",
       "    }\n",
       "\n",
       "    .dataframe tbody tr th {\n",
       "        vertical-align: top;\n",
       "    }\n",
       "\n",
       "    .dataframe thead th {\n",
       "        text-align: right;\n",
       "    }\n",
       "</style>\n",
       "<table border=\"1\" class=\"dataframe\">\n",
       "  <thead>\n",
       "    <tr style=\"text-align: right;\">\n",
       "      <th></th>\n",
       "      <th>Median</th>\n",
       "      <th>Mean</th>\n",
       "      <th>Pop</th>\n",
       "    </tr>\n",
       "    <tr>\n",
       "      <th>Zip</th>\n",
       "      <th></th>\n",
       "      <th></th>\n",
       "      <th></th>\n",
       "    </tr>\n",
       "  </thead>\n",
       "  <tbody>\n",
       "    <tr>\n",
       "      <th>1001</th>\n",
       "      <td>56662.5735</td>\n",
       "      <td>66687.7509</td>\n",
       "      <td>16445</td>\n",
       "    </tr>\n",
       "    <tr>\n",
       "      <th>1002</th>\n",
       "      <td>49853.4177</td>\n",
       "      <td>75062.6343</td>\n",
       "      <td>28069</td>\n",
       "    </tr>\n",
       "    <tr>\n",
       "      <th>1003</th>\n",
       "      <td>28462.0000</td>\n",
       "      <td>35121.0000</td>\n",
       "      <td>8491</td>\n",
       "    </tr>\n",
       "    <tr>\n",
       "      <th>1005</th>\n",
       "      <td>75423.0000</td>\n",
       "      <td>82442.0000</td>\n",
       "      <td>4798</td>\n",
       "    </tr>\n",
       "    <tr>\n",
       "      <th>1007</th>\n",
       "      <td>79076.3540</td>\n",
       "      <td>85801.9750</td>\n",
       "      <td>12962</td>\n",
       "    </tr>\n",
       "  </tbody>\n",
       "</table>\n",
       "</div>"
      ],
      "text/plain": [
       "          Median        Mean    Pop\n",
       "Zip                                \n",
       "1001  56662.5735  66687.7509  16445\n",
       "1002  49853.4177  75062.6343  28069\n",
       "1003  28462.0000  35121.0000   8491\n",
       "1005  75423.0000  82442.0000   4798\n",
       "1007  79076.3540  85801.9750  12962"
      ]
     },
     "execution_count": 22,
     "metadata": {},
     "output_type": "execute_result"
    }
   ],
   "source": [
    "#load the data\n",
    "dataIncome=pd.read_csv(folder+\"data/MeanZip.csv\",index_col=0)\n",
    "dataIncome=dataIncome.apply(pd.to_numeric, errors='coerce')\n",
    "dataIncome=dataIncome.loc[dataIncome.Mean>0]\n",
    "dataIncome.head()"
   ]
  },
  {
   "cell_type": "code",
   "execution_count": 23,
   "metadata": {
    "collapsed": true
   },
   "outputs": [],
   "source": [
    "#split into training (1), validation (2) and test (3) samples\n",
    "np.random.seed(2018)\n",
    "splitind=np.random.uniform(size=len(dataIncome))\n",
    "dataIncome1=dataIncome.loc[splitind<=0.4]\n",
    "dataIncome2=dataIncome.loc[(splitind>0.4)&(splitind<0.7)]\n",
    "dataIncome3=dataIncome.loc[(splitind>=0.7)]"
   ]
  },
  {
   "cell_type": "markdown",
   "metadata": {},
   "source": [
    "#### Q1. Perform regularied regression of Mean income of the zip code vs its 311 profile \n",
    "Train Ridge and Lasso over dataIncome1 with an arbitrary default parameter $\\alpha=100$.\n",
    "Then evaluate their out-of-sample performance over dataIncome3\n",
    "Make sure to scale the features in all three samples first, learning the scaler over the training sample"
   ]
  },
  {
   "cell_type": "markdown",
   "metadata": {},
   "source": [
    "#### Q2. Perform parameter selection for Lasso and Ridge over validation sample\n",
    "try exponential range exp(-10)...exp(20) with 100 values in it\n",
    "\n",
    "Visualize the validation R2 vs alpha\n",
    "\n",
    "For the optimal alpha evaluate performance of the models over the test set. \n",
    "\n",
    "Why do you think performance does not look that good, especially for one of the models?"
   ]
  },
  {
   "cell_type": "code",
   "execution_count": null,
   "metadata": {
    "collapsed": true
   },
   "outputs": [],
   "source": []
  }
 ],
 "metadata": {
  "anaconda-cloud": {},
  "kernelspec": {
   "display_name": "Python 3",
   "language": "python",
   "name": "python3"
  },
  "language_info": {
   "codemirror_mode": {
    "name": "ipython",
    "version": 3
   },
   "file_extension": ".py",
   "mimetype": "text/x-python",
   "name": "python",
   "nbconvert_exporter": "python",
   "pygments_lexer": "ipython3",
   "version": "3.5.5"
  }
 },
 "nbformat": 4,
 "nbformat_minor": 2
}
